{
 "cells": [
  {
   "cell_type": "code",
   "execution_count": 1,
   "metadata": {},
   "outputs": [],
   "source": [
    "import numpy as np\n",
    "import pandas as pd"
   ]
  },
  {
   "cell_type": "code",
   "execution_count": 7,
   "metadata": {},
   "outputs": [],
   "source": [
    "default_prob = np.array([0.2, 0.2, 0.06, 0.3 ,0.4 ,0.65 ,0.3 ,0.23 ,0.02 ,0.12 ,0.134 ,0.21 ,0.08 ,0.1 ,0.1 ,0.02 ,0.3 ,0.015 ,0.2 ,0.03])"
   ]
  },
  {
   "cell_type": "markdown",
   "metadata": {},
   "source": [
    "# Q1 What is p^N(3)p "
   ]
  },
  {
   "cell_type": "code",
   "execution_count": 34,
   "metadata": {},
   "outputs": [],
   "source": [
    "def generate_pN(prob):\n",
    "    pN = np.zeros(len(default_prob)+1)\n",
    "    pN[0] = 1 - prob[0]\n",
    "    pN[1] = prob[0]\n",
    "    for i in range(2, len(pN)):\n",
    "        for j in reversed(range(1,i+1)):\n",
    "            pN[j] = pN[j-1] * prob[i-1] + pN[j] * (1 - prob[i-1])\n",
    "        pN[0] = pN[0] * (1 - prob[i-1])\n",
    "    return pN"
   ]
  },
  {
   "cell_type": "code",
   "execution_count": 63,
   "metadata": {},
   "outputs": [
    {
     "data": {
      "text/plain": [
       "0.23990861813910855"
      ]
     },
     "execution_count": 63,
     "metadata": {},
     "output_type": "execute_result"
    }
   ],
   "source": [
    "pN = generate_pN(default_prob)\n",
    "pN[3]"
   ]
  },
  {
   "cell_type": "markdown",
   "metadata": {},
   "source": [
    "# Q2 What is the expected number of losses in the portfolio? "
   ]
  },
  {
   "cell_type": "code",
   "execution_count": 40,
   "metadata": {},
   "outputs": [
    {
     "data": {
      "text/plain": [
       "3.6690000000000005"
      ]
     },
     "execution_count": 40,
     "metadata": {},
     "output_type": "execute_result"
    }
   ],
   "source": [
    "num = np.array(range(len(pN)))\n",
    "exp_Num_losses = pN.dot(num)\n",
    "exp_Num_losses"
   ]
  },
  {
   "cell_type": "markdown",
   "metadata": {},
   "source": [
    "# Q3 Compute the variance of the number of losses in the portfolio."
   ]
  },
  {
   "cell_type": "code",
   "execution_count": 64,
   "metadata": {},
   "outputs": [
    {
     "data": {
      "text/plain": [
       "2.5352190000000014"
      ]
     },
     "execution_count": 64,
     "metadata": {},
     "output_type": "execute_result"
    }
   ],
   "source": [
    "variance = pN.dot(num**2) - exp_Num_losses**2\n",
    "variance"
   ]
  },
  {
   "cell_type": "markdown",
   "metadata": {},
   "source": [
    "# Q4 What is the expected tranche loss in the tranche with lower and upper attachment points of 0 and 2, respectively?"
   ]
  },
  {
   "cell_type": "code",
   "execution_count": 55,
   "metadata": {},
   "outputs": [],
   "source": [
    "def exp_tranche_loss(low, up, pN):\n",
    "        tranche = np.array(range(up-low))\n",
    "        exp_tranche_loss = tranche.dot(pN[low:up]) + (up-low) * np.sum(pN[up:])\n",
    "        return exp_tranche_loss"
   ]
  },
  {
   "cell_type": "code",
   "execution_count": 56,
   "metadata": {},
   "outputs": [
    {
     "data": {
      "text/plain": [
       "1.9134593521751018"
      ]
     },
     "execution_count": 56,
     "metadata": {},
     "output_type": "execute_result"
    }
   ],
   "source": [
    "exp_tranche_loss(0,2,pN)"
   ]
  },
  {
   "cell_type": "markdown",
   "metadata": {},
   "source": [
    "# Q5 What is the expected tranche loss in the tranche with lower and upper attachment points of 2 and 4, respectively?"
   ]
  },
  {
   "cell_type": "code",
   "execution_count": 59,
   "metadata": {},
   "outputs": [
    {
     "data": {
      "text/plain": [
       "1.283222663870053"
      ]
     },
     "execution_count": 59,
     "metadata": {},
     "output_type": "execute_result"
    }
   ],
   "source": [
    "exp_tranche_loss(2,4,pN)"
   ]
  },
  {
   "cell_type": "markdown",
   "metadata": {},
   "source": [
    "# Q6 What is the expected tranche loss in the tranche with lower and upper attachment points of 4 and 20, respectively? "
   ]
  },
  {
   "cell_type": "code",
   "execution_count": 60,
   "metadata": {},
   "outputs": [
    {
     "data": {
      "text/plain": [
       "0.4723179839548466"
      ]
     },
     "execution_count": 60,
     "metadata": {},
     "output_type": "execute_result"
    }
   ],
   "source": [
    "exp_tranche_loss(4,20,pN)"
   ]
  },
  {
   "cell_type": "code",
   "execution_count": null,
   "metadata": {},
   "outputs": [],
   "source": []
  }
 ],
 "metadata": {
  "kernelspec": {
   "display_name": "Python 3",
   "language": "python",
   "name": "python3"
  },
  "language_info": {
   "codemirror_mode": {
    "name": "ipython",
    "version": 3
   },
   "file_extension": ".py",
   "mimetype": "text/x-python",
   "name": "python",
   "nbconvert_exporter": "python",
   "pygments_lexer": "ipython3",
   "version": "3.6.4"
  }
 },
 "nbformat": 4,
 "nbformat_minor": 2
}
